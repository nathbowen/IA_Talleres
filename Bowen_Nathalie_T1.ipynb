{
  "cells": [
    {
      "cell_type": "markdown",
      "metadata": {
        "id": "view-in-github",
        "colab_type": "text"
      },
      "source": [
        "<a href=\"https://colab.research.google.com/github/nathbowen/IA_Talleres/blob/main/Bowen_Nathalie_T1.ipynb\" target=\"_parent\"><img src=\"https://colab.research.google.com/assets/colab-badge.svg\" alt=\"Open In Colab\"/></a>"
      ]
    },
    {
      "cell_type": "markdown",
      "metadata": {
        "id": "Wf5KrEb6vrkR"
      },
      "source": [
        "<div class=\"markdown-google-sans\">\n",
        "  <h1>Te damos la bienvenida a Colab</h1>\n",
        "</div>\n",
        "\n",
        "<!-- TODO(b/319266067) remove temporary advert after a few weeks. -->\n",
        "<div class=\"markdown-google-sans\">\n",
        "  <h2>&#40;Novedad&#41; Prueba la API de Gemini</h2>\n",
        "  <ul>\n",
        "  <li><a href=\"https://makersuite.google.com/app/apikey\">Generate a Gemini API key</a></li>\n",
        "  <li><a href=\"https://colab.research.google.com/github/googlecolab/colabtools/blob/main/notebooks/Talk_to_Gemini_with_Google%27s_Speech_to_Text_API.ipynb?utm_medium=link&utm_campaign=gemini\">Talk to Gemini with the Speech-to-Text API</a></li>\n",
        "  <li><a href=\"https://colab.research.google.com/github/google/generative-ai-docs/blob/main/site/en/tutorials/quickstart_colab.ipynb?utm_medium=link&utm_campaign=gemini\">Gemini API: Quickstart with Python</a></li>\n",
        "  <li><a href=\"https://colab.research.google.com/notebooks/snippets/gemini.ipynb?utm_medium=link&utm_campaign=gemini\">Gemini API code sample</a></li>\n",
        "  <li><a href=\"https://colab.research.google.com/github/googlecolab/colabtools/blob/main/notebooks/Learning_with_Gemini_and_ChatGPT.ipynb?utm_medium=link&utm_campaign=gemini\">Compare Gemini with ChatGPT</a></li>  \n",
        "  <li><a href=\"https://colab.google/notebooks/?utm_medium=link&utm_campaign=gemini\">More notebooks</a></li>\n",
        "  </ul>\n",
        "</div>\n"
      ]
    },
    {
      "cell_type": "code",
      "source": [
        "import math\n",
        "import random\n",
        "\n",
        "def n_saltos (radio):\n",
        "    x = 0\n",
        "    y = 0\n",
        "    n_saltos = 0\n",
        "\n",
        "    while True:\n",
        "        distancia = math.sqrt(x**2 + y**2)\n",
        "        if distancia > radio:\n",
        "            break\n",
        "\n",
        "        direccion = random.choice([\"arriba\", \"abajo\", \"izquierda\", \"derecha\"])\n",
        "        if direccion == \"arriba\":\n",
        "            y += 1\n",
        "        elif direccion == \"abajo\":\n",
        "            y -= 1\n",
        "        elif direccion == \"izquierda\":\n",
        "            x -= 1\n",
        "        elif direccion == \"derecha\":\n",
        "            x += 1\n",
        "\n",
        "        n_saltos += 1\n",
        "\n",
        "    return n_saltos\n",
        "\n",
        "\n",
        "radio = float(input(\"Ingrese el radio de la isla (Kms.): \"))\n",
        "resultado = n_saltos(radio)\n",
        "print(f\"El conejo dio {resultado} saltos antes de caer en el agua.\")"
      ],
      "metadata": {
        "id": "kq2EgmzQzTix",
        "outputId": "ae735144-2a20-4654-d5ee-e8254d999073",
        "colab": {
          "base_uri": "https://localhost:8080/"
        }
      },
      "execution_count": null,
      "outputs": [
        {
          "output_type": "stream",
          "name": "stdout",
          "text": [
            "Ingrese el radio de la isla (Kms.): 2\n",
            "El conejo dio 9 saltos antes de caer en el agua.\n"
          ]
        }
      ]
    }
  ],
  "metadata": {
    "colab": {
      "toc_visible": true,
      "provenance": [],
      "include_colab_link": true
    },
    "kernelspec": {
      "display_name": "Python 3",
      "name": "python3"
    }
  },
  "nbformat": 4,
  "nbformat_minor": 0
}